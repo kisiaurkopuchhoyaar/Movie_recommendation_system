{
  "cells": [
    {
      "cell_type": "markdown",
      "metadata": {},
      "source": [
        "## Gaurav Kumarr\n",
        "#### **Content Based Movie Recommendation System**"
      ]
    },
    {
      "cell_type": "code",
      "execution_count": null,
      "metadata": {
        "id": "yxqBjjKdpQ44"
      },
      "outputs": [],
      "source": [
        "#install kaggle\n",
        "! pip install kaggle"
      ]
    },
    {
      "cell_type": "code",
      "execution_count": null,
      "metadata": {
        "id": "bpJ-foHequ9w"
      },
      "outputs": [],
      "source": [
        "#making a directory for kaggle files,Remember directory can't named anything else than kaggle\n",
        "! mkdir ~/.kaggle"
      ]
    },
    {
      "cell_type": "markdown",
      "metadata": {},
      "source": [
        "###### ***Download kaggle.json file from your kaggle account , go to setting and create a new token***"
      ]
    },
    {
      "cell_type": "code",
      "execution_count": null,
      "metadata": {
        "id": "XCpTTzKOrNmb"
      },
      "outputs": [],
      "source": [
        "#copy your kaggle.json file to kaggle directory\n",
        "! cp kaggle.json ~/.kaggle"
      ]
    },
    {
      "cell_type": "markdown",
      "metadata": {},
      "source": [
        "###### ***Download rotten tomato dataset from kaggle data by copying API command and pasting it in colab or you can directly download zip file***"
      ]
    },
    {
      "cell_type": "code",
      "execution_count": null,
      "metadata": {
        "id": "l9mnDJrhrcmb"
      },
      "outputs": [],
      "source": [
        "! kaggle datasets download -d andrezaza/clapper-massive-rotten-tomatoes-movies-and-reviews"
      ]
    },
    {
      "cell_type": "code",
      "execution_count": null,
      "metadata": {
        "id": "LvWpI8Mnrjt6"
      },
      "outputs": [],
      "source": [
        "!unzip /content/clapper-massive-rotten-tomatoes-movies-and-reviews.zip"
      ]
    },
    {
      "cell_type": "markdown",
      "metadata": {},
      "source": [
        "###### *Importing all the necessary packages and libraries*"
      ]
    },
    {
      "cell_type": "code",
      "execution_count": 5,
      "metadata": {
        "id": "rmIvulvgr1nM"
      },
      "outputs": [],
      "source": [
        "#!!important!!\n",
        "import pandas as pd\n",
        "import numpy as np\n",
        "import nltk\n",
        "import Levenshtein\n",
        "from nltk.corpus import stopwords\n",
        "from sklearn.feature_extraction.text import TfidfVectorizer\n",
        "# import stemmer\n",
        "from sklearn.metrics.pairwise import cosine_similarity\n",
        "from sklearn.preprocessing import MultiLabelBinarizer, LabelEncoder,OneHotEncoder,MinMaxScaler,normalize\n",
        "from sklearn.feature_extraction.text import CountVectorizer\n",
        "from sklearn.decomposition import TruncatedSVD\n",
        "from tkinter import messagebox\n",
        "from fuzzywuzzy import fuzz\n",
        "from fuzzywuzzy import process\n",
        "import tkinter as tk\n",
        "from Levenshtein import distance\n",
        "# from plotly.offline import init_notebook_mode,iplot\n",
        "import matplotlib as mpl\n",
        "import matplotlib.pyplot as plt\n",
        "\n",
        "\n",
        "\n",
        "\n",
        "import re\n",
        "import seaborn as sns"
      ]
    },
    {
      "cell_type": "markdown",
      "metadata": {},
      "source": [
        "###### **Read extracted csv file using panda and read_csv function ,copy the file path and if you are using windows then use \\\\\\ instead of /**"
      ]
    },
    {
      "cell_type": "code",
      "execution_count": 6,
      "metadata": {
        "id": "iqGr1Sg2uhW6"
      },
      "outputs": [],
      "source": [
        "#!!important!!\n",
        "df_movie = pd.read_csv(\"C:\\\\Users\\\\gaura\\\\Desktop\\\\Rotten_tomato\\\\movies.csv\")\n",
        "df_review = pd.read_csv(\"C:\\\\Users\\\\gaura\\\\Desktop\\\\Rotten_tomato\\\\movie_reviews.csv\")"
      ]
    },
    {
      "cell_type": "code",
      "execution_count": 7,
      "metadata": {
        "colab": {
          "base_uri": "https://localhost:8080/",
          "height": 632
        },
        "id": "PmR3r47kwtyu",
        "outputId": "cd33f927-0953-4cdb-9627-5969db29150d"
      },
      "outputs": [
        {
          "data": {
            "text/html": [
              "<div>\n",
              "<style scoped>\n",
              "    .dataframe tbody tr th:only-of-type {\n",
              "        vertical-align: middle;\n",
              "    }\n",
              "\n",
              "    .dataframe tbody tr th {\n",
              "        vertical-align: top;\n",
              "    }\n",
              "\n",
              "    .dataframe thead th {\n",
              "        text-align: right;\n",
              "    }\n",
              "</style>\n",
              "<table border=\"1\" class=\"dataframe\">\n",
              "  <thead>\n",
              "    <tr style=\"text-align: right;\">\n",
              "      <th></th>\n",
              "      <th>id</th>\n",
              "      <th>title</th>\n",
              "      <th>audienceScore</th>\n",
              "      <th>tomatoMeter</th>\n",
              "      <th>rating</th>\n",
              "      <th>ratingContents</th>\n",
              "      <th>releaseDateTheaters</th>\n",
              "      <th>releaseDateStreaming</th>\n",
              "      <th>runtimeMinutes</th>\n",
              "      <th>genre</th>\n",
              "      <th>originalLanguage</th>\n",
              "      <th>director</th>\n",
              "      <th>writer</th>\n",
              "      <th>boxOffice</th>\n",
              "      <th>distributor</th>\n",
              "      <th>soundMix</th>\n",
              "    </tr>\n",
              "  </thead>\n",
              "  <tbody>\n",
              "    <tr>\n",
              "      <th>0</th>\n",
              "      <td>space-zombie-bingo</td>\n",
              "      <td>Space Zombie Bingo!</td>\n",
              "      <td>50.0</td>\n",
              "      <td>NaN</td>\n",
              "      <td>NaN</td>\n",
              "      <td>NaN</td>\n",
              "      <td>NaN</td>\n",
              "      <td>2018-08-25</td>\n",
              "      <td>75.0</td>\n",
              "      <td>Comedy, Horror, Sci-fi</td>\n",
              "      <td>English</td>\n",
              "      <td>George Ormrod</td>\n",
              "      <td>George Ormrod,John Sabotta</td>\n",
              "      <td>NaN</td>\n",
              "      <td>NaN</td>\n",
              "      <td>NaN</td>\n",
              "    </tr>\n",
              "    <tr>\n",
              "      <th>1</th>\n",
              "      <td>the_green_grass</td>\n",
              "      <td>The Green Grass</td>\n",
              "      <td>NaN</td>\n",
              "      <td>NaN</td>\n",
              "      <td>NaN</td>\n",
              "      <td>NaN</td>\n",
              "      <td>NaN</td>\n",
              "      <td>2020-02-11</td>\n",
              "      <td>114.0</td>\n",
              "      <td>Drama</td>\n",
              "      <td>English</td>\n",
              "      <td>Tiffany Edwards</td>\n",
              "      <td>Tiffany Edwards</td>\n",
              "      <td>NaN</td>\n",
              "      <td>NaN</td>\n",
              "      <td>NaN</td>\n",
              "    </tr>\n",
              "    <tr>\n",
              "      <th>2</th>\n",
              "      <td>love_lies</td>\n",
              "      <td>Love, Lies</td>\n",
              "      <td>43.0</td>\n",
              "      <td>NaN</td>\n",
              "      <td>NaN</td>\n",
              "      <td>NaN</td>\n",
              "      <td>NaN</td>\n",
              "      <td>NaN</td>\n",
              "      <td>120.0</td>\n",
              "      <td>Drama</td>\n",
              "      <td>Korean</td>\n",
              "      <td>Park Heung-Sik,Heung-Sik Park</td>\n",
              "      <td>Ha Young-Joon,Jeon Yun-su,Song Hye-jin</td>\n",
              "      <td>NaN</td>\n",
              "      <td>NaN</td>\n",
              "      <td>NaN</td>\n",
              "    </tr>\n",
              "    <tr>\n",
              "      <th>3</th>\n",
              "      <td>the_sore_losers_1997</td>\n",
              "      <td>Sore Losers</td>\n",
              "      <td>60.0</td>\n",
              "      <td>NaN</td>\n",
              "      <td>NaN</td>\n",
              "      <td>NaN</td>\n",
              "      <td>NaN</td>\n",
              "      <td>2020-10-23</td>\n",
              "      <td>90.0</td>\n",
              "      <td>Action, Mystery &amp; thriller</td>\n",
              "      <td>English</td>\n",
              "      <td>John Michael McCarthy</td>\n",
              "      <td>John Michael McCarthy</td>\n",
              "      <td>NaN</td>\n",
              "      <td>NaN</td>\n",
              "      <td>NaN</td>\n",
              "    </tr>\n",
              "    <tr>\n",
              "      <th>4</th>\n",
              "      <td>dinosaur_island_2002</td>\n",
              "      <td>Dinosaur Island</td>\n",
              "      <td>70.0</td>\n",
              "      <td>NaN</td>\n",
              "      <td>NaN</td>\n",
              "      <td>NaN</td>\n",
              "      <td>NaN</td>\n",
              "      <td>2017-03-27</td>\n",
              "      <td>80.0</td>\n",
              "      <td>Fantasy, Adventure, Animation</td>\n",
              "      <td>English</td>\n",
              "      <td>Will Meugniot</td>\n",
              "      <td>John Loy</td>\n",
              "      <td>NaN</td>\n",
              "      <td>NaN</td>\n",
              "      <td>NaN</td>\n",
              "    </tr>\n",
              "    <tr>\n",
              "      <th>...</th>\n",
              "      <td>...</td>\n",
              "      <td>...</td>\n",
              "      <td>...</td>\n",
              "      <td>...</td>\n",
              "      <td>...</td>\n",
              "      <td>...</td>\n",
              "      <td>...</td>\n",
              "      <td>...</td>\n",
              "      <td>...</td>\n",
              "      <td>...</td>\n",
              "      <td>...</td>\n",
              "      <td>...</td>\n",
              "      <td>...</td>\n",
              "      <td>...</td>\n",
              "      <td>...</td>\n",
              "      <td>...</td>\n",
              "    </tr>\n",
              "    <tr>\n",
              "      <th>143253</th>\n",
              "      <td>nadia_the_secret_of_blue_water_the_motion_pict...</td>\n",
              "      <td>Nadia: The Secret of Blue Water: The Motion Pi...</td>\n",
              "      <td>14.0</td>\n",
              "      <td>NaN</td>\n",
              "      <td>NaN</td>\n",
              "      <td>NaN</td>\n",
              "      <td>2002-08-27</td>\n",
              "      <td>NaN</td>\n",
              "      <td>90.0</td>\n",
              "      <td>Action, Adventure, Anime</td>\n",
              "      <td>Japanese</td>\n",
              "      <td>Sho Aono</td>\n",
              "      <td>Kaoru Umeno</td>\n",
              "      <td>NaN</td>\n",
              "      <td>ADV Films</td>\n",
              "      <td>NaN</td>\n",
              "    </tr>\n",
              "    <tr>\n",
              "      <th>143254</th>\n",
              "      <td>everyone_i_knew_and_loved</td>\n",
              "      <td>Everyone I Knew and Loved</td>\n",
              "      <td>NaN</td>\n",
              "      <td>NaN</td>\n",
              "      <td>NaN</td>\n",
              "      <td>NaN</td>\n",
              "      <td>NaN</td>\n",
              "      <td>NaN</td>\n",
              "      <td>99.0</td>\n",
              "      <td>Drama</td>\n",
              "      <td>English</td>\n",
              "      <td>Andrew Behringer</td>\n",
              "      <td>Erika Heidewald</td>\n",
              "      <td>NaN</td>\n",
              "      <td>NaN</td>\n",
              "      <td>NaN</td>\n",
              "    </tr>\n",
              "    <tr>\n",
              "      <th>143255</th>\n",
              "      <td>the-human-body</td>\n",
              "      <td>The Human Body</td>\n",
              "      <td>71.0</td>\n",
              "      <td>89.0</td>\n",
              "      <td>NaN</td>\n",
              "      <td>NaN</td>\n",
              "      <td>NaN</td>\n",
              "      <td>NaN</td>\n",
              "      <td>43.0</td>\n",
              "      <td>Documentary</td>\n",
              "      <td>English</td>\n",
              "      <td>Peter Georgi</td>\n",
              "      <td>Richard Dale</td>\n",
              "      <td>NaN</td>\n",
              "      <td>NaN</td>\n",
              "      <td>NaN</td>\n",
              "    </tr>\n",
              "    <tr>\n",
              "      <th>143256</th>\n",
              "      <td>flying_fists</td>\n",
              "      <td>Flying Fists</td>\n",
              "      <td>NaN</td>\n",
              "      <td>NaN</td>\n",
              "      <td>NaN</td>\n",
              "      <td>NaN</td>\n",
              "      <td>NaN</td>\n",
              "      <td>2006-11-21</td>\n",
              "      <td>63.0</td>\n",
              "      <td>Drama</td>\n",
              "      <td>English</td>\n",
              "      <td>Robert F. Hill</td>\n",
              "      <td>Robert F. Hill,Basil Dickey</td>\n",
              "      <td>NaN</td>\n",
              "      <td>NaN</td>\n",
              "      <td>NaN</td>\n",
              "    </tr>\n",
              "    <tr>\n",
              "      <th>143257</th>\n",
              "      <td>awakening-2005</td>\n",
              "      <td>Awakening</td>\n",
              "      <td>NaN</td>\n",
              "      <td>NaN</td>\n",
              "      <td>NaN</td>\n",
              "      <td>NaN</td>\n",
              "      <td>NaN</td>\n",
              "      <td>NaN</td>\n",
              "      <td>90.0</td>\n",
              "      <td>Horror</td>\n",
              "      <td>English</td>\n",
              "      <td>David J. Francis</td>\n",
              "      <td>David J. Francis,Mike Masters</td>\n",
              "      <td>NaN</td>\n",
              "      <td>NaN</td>\n",
              "      <td>NaN</td>\n",
              "    </tr>\n",
              "  </tbody>\n",
              "</table>\n",
              "<p>143258 rows × 16 columns</p>\n",
              "</div>"
            ],
            "text/plain": [
              "                                                       id  \\\n",
              "0                                      space-zombie-bingo   \n",
              "1                                         the_green_grass   \n",
              "2                                               love_lies   \n",
              "3                                    the_sore_losers_1997   \n",
              "4                                    dinosaur_island_2002   \n",
              "...                                                   ...   \n",
              "143253  nadia_the_secret_of_blue_water_the_motion_pict...   \n",
              "143254                          everyone_i_knew_and_loved   \n",
              "143255                                     the-human-body   \n",
              "143256                                       flying_fists   \n",
              "143257                                     awakening-2005   \n",
              "\n",
              "                                                    title  audienceScore  \\\n",
              "0                                     Space Zombie Bingo!           50.0   \n",
              "1                                         The Green Grass            NaN   \n",
              "2                                              Love, Lies           43.0   \n",
              "3                                             Sore Losers           60.0   \n",
              "4                                         Dinosaur Island           70.0   \n",
              "...                                                   ...            ...   \n",
              "143253  Nadia: The Secret of Blue Water: The Motion Pi...           14.0   \n",
              "143254                          Everyone I Knew and Loved            NaN   \n",
              "143255                                     The Human Body           71.0   \n",
              "143256                                       Flying Fists            NaN   \n",
              "143257                                          Awakening            NaN   \n",
              "\n",
              "        tomatoMeter rating ratingContents releaseDateTheaters  \\\n",
              "0               NaN    NaN            NaN                 NaN   \n",
              "1               NaN    NaN            NaN                 NaN   \n",
              "2               NaN    NaN            NaN                 NaN   \n",
              "3               NaN    NaN            NaN                 NaN   \n",
              "4               NaN    NaN            NaN                 NaN   \n",
              "...             ...    ...            ...                 ...   \n",
              "143253          NaN    NaN            NaN          2002-08-27   \n",
              "143254          NaN    NaN            NaN                 NaN   \n",
              "143255         89.0    NaN            NaN                 NaN   \n",
              "143256          NaN    NaN            NaN                 NaN   \n",
              "143257          NaN    NaN            NaN                 NaN   \n",
              "\n",
              "       releaseDateStreaming  runtimeMinutes                          genre  \\\n",
              "0                2018-08-25            75.0         Comedy, Horror, Sci-fi   \n",
              "1                2020-02-11           114.0                          Drama   \n",
              "2                       NaN           120.0                          Drama   \n",
              "3                2020-10-23            90.0     Action, Mystery & thriller   \n",
              "4                2017-03-27            80.0  Fantasy, Adventure, Animation   \n",
              "...                     ...             ...                            ...   \n",
              "143253                  NaN            90.0       Action, Adventure, Anime   \n",
              "143254                  NaN            99.0                          Drama   \n",
              "143255                  NaN            43.0                    Documentary   \n",
              "143256           2006-11-21            63.0                          Drama   \n",
              "143257                  NaN            90.0                         Horror   \n",
              "\n",
              "       originalLanguage                       director  \\\n",
              "0               English                  George Ormrod   \n",
              "1               English                Tiffany Edwards   \n",
              "2                Korean  Park Heung-Sik,Heung-Sik Park   \n",
              "3               English          John Michael McCarthy   \n",
              "4               English                  Will Meugniot   \n",
              "...                 ...                            ...   \n",
              "143253         Japanese                       Sho Aono   \n",
              "143254          English               Andrew Behringer   \n",
              "143255          English                   Peter Georgi   \n",
              "143256          English                 Robert F. Hill   \n",
              "143257          English               David J. Francis   \n",
              "\n",
              "                                        writer boxOffice distributor soundMix  \n",
              "0                   George Ormrod,John Sabotta       NaN         NaN      NaN  \n",
              "1                              Tiffany Edwards       NaN         NaN      NaN  \n",
              "2       Ha Young-Joon,Jeon Yun-su,Song Hye-jin       NaN         NaN      NaN  \n",
              "3                        John Michael McCarthy       NaN         NaN      NaN  \n",
              "4                                     John Loy       NaN         NaN      NaN  \n",
              "...                                        ...       ...         ...      ...  \n",
              "143253                             Kaoru Umeno       NaN   ADV Films      NaN  \n",
              "143254                         Erika Heidewald       NaN         NaN      NaN  \n",
              "143255                            Richard Dale       NaN         NaN      NaN  \n",
              "143256             Robert F. Hill,Basil Dickey       NaN         NaN      NaN  \n",
              "143257           David J. Francis,Mike Masters       NaN         NaN      NaN  \n",
              "\n",
              "[143258 rows x 16 columns]"
            ]
          },
          "execution_count": 7,
          "metadata": {},
          "output_type": "execute_result"
        }
      ],
      "source": [
        "#Movie data frame from csv file\n",
        "df_movie"
      ]
    },
    {
      "cell_type": "code",
      "execution_count": 8,
      "metadata": {},
      "outputs": [
        {
          "data": {
            "text/html": [
              "<div>\n",
              "<style scoped>\n",
              "    .dataframe tbody tr th:only-of-type {\n",
              "        vertical-align: middle;\n",
              "    }\n",
              "\n",
              "    .dataframe tbody tr th {\n",
              "        vertical-align: top;\n",
              "    }\n",
              "\n",
              "    .dataframe thead th {\n",
              "        text-align: right;\n",
              "    }\n",
              "</style>\n",
              "<table border=\"1\" class=\"dataframe\">\n",
              "  <thead>\n",
              "    <tr style=\"text-align: right;\">\n",
              "      <th></th>\n",
              "      <th>id</th>\n",
              "      <th>reviewId</th>\n",
              "      <th>creationDate</th>\n",
              "      <th>criticName</th>\n",
              "      <th>isTopCritic</th>\n",
              "      <th>originalScore</th>\n",
              "      <th>reviewState</th>\n",
              "      <th>publicatioName</th>\n",
              "      <th>reviewText</th>\n",
              "      <th>scoreSentiment</th>\n",
              "      <th>reviewUrl</th>\n",
              "    </tr>\n",
              "  </thead>\n",
              "  <tbody>\n",
              "    <tr>\n",
              "      <th>0</th>\n",
              "      <td>beavers</td>\n",
              "      <td>1145982</td>\n",
              "      <td>2003-05-23</td>\n",
              "      <td>Ivan M. Lincoln</td>\n",
              "      <td>False</td>\n",
              "      <td>3.5/4</td>\n",
              "      <td>fresh</td>\n",
              "      <td>Deseret News (Salt Lake City)</td>\n",
              "      <td>Timed to be just long enough for most youngste...</td>\n",
              "      <td>POSITIVE</td>\n",
              "      <td>http://www.deseretnews.com/article/700003233/B...</td>\n",
              "    </tr>\n",
              "    <tr>\n",
              "      <th>1</th>\n",
              "      <td>blood_mask</td>\n",
              "      <td>1636744</td>\n",
              "      <td>2007-06-02</td>\n",
              "      <td>The Foywonder</td>\n",
              "      <td>False</td>\n",
              "      <td>1/5</td>\n",
              "      <td>rotten</td>\n",
              "      <td>Dread Central</td>\n",
              "      <td>It doesn't matter if a movie costs 300 million...</td>\n",
              "      <td>NEGATIVE</td>\n",
              "      <td>http://www.dreadcentral.com/index.php?name=Rev...</td>\n",
              "    </tr>\n",
              "    <tr>\n",
              "      <th>2</th>\n",
              "      <td>city_hunter_shinjuku_private_eyes</td>\n",
              "      <td>2590987</td>\n",
              "      <td>2019-05-28</td>\n",
              "      <td>Reuben Baron</td>\n",
              "      <td>False</td>\n",
              "      <td>NaN</td>\n",
              "      <td>fresh</td>\n",
              "      <td>CBR</td>\n",
              "      <td>The choreography is so precise and lifelike at...</td>\n",
              "      <td>POSITIVE</td>\n",
              "      <td>https://www.cbr.com/city-hunter-shinjuku-priva...</td>\n",
              "    </tr>\n",
              "    <tr>\n",
              "      <th>3</th>\n",
              "      <td>city_hunter_shinjuku_private_eyes</td>\n",
              "      <td>2558908</td>\n",
              "      <td>2019-02-14</td>\n",
              "      <td>Matt Schley</td>\n",
              "      <td>False</td>\n",
              "      <td>2.5/5</td>\n",
              "      <td>rotten</td>\n",
              "      <td>Japan Times</td>\n",
              "      <td>The film's out-of-touch attempts at humor may ...</td>\n",
              "      <td>NEGATIVE</td>\n",
              "      <td>https://www.japantimes.co.jp/culture/2019/02/0...</td>\n",
              "    </tr>\n",
              "    <tr>\n",
              "      <th>4</th>\n",
              "      <td>dangerous_men_2015</td>\n",
              "      <td>2504681</td>\n",
              "      <td>2018-08-29</td>\n",
              "      <td>Pat Padua</td>\n",
              "      <td>False</td>\n",
              "      <td>NaN</td>\n",
              "      <td>fresh</td>\n",
              "      <td>DCist</td>\n",
              "      <td>Its clumsy determination is endearing and some...</td>\n",
              "      <td>POSITIVE</td>\n",
              "      <td>http://dcist.com/2015/11/out_of_frame_dangerou...</td>\n",
              "    </tr>\n",
              "    <tr>\n",
              "      <th>...</th>\n",
              "      <td>...</td>\n",
              "      <td>...</td>\n",
              "      <td>...</td>\n",
              "      <td>...</td>\n",
              "      <td>...</td>\n",
              "      <td>...</td>\n",
              "      <td>...</td>\n",
              "      <td>...</td>\n",
              "      <td>...</td>\n",
              "      <td>...</td>\n",
              "      <td>...</td>\n",
              "    </tr>\n",
              "    <tr>\n",
              "      <th>1444958</th>\n",
              "      <td>thor_love_and_thunder</td>\n",
              "      <td>102706151</td>\n",
              "      <td>2022-07-05</td>\n",
              "      <td>Christie Cronan</td>\n",
              "      <td>False</td>\n",
              "      <td>7/10</td>\n",
              "      <td>fresh</td>\n",
              "      <td>Raising Whasians</td>\n",
              "      <td>Solid but not totally sold&amp;#44; Thor&amp;#58; Ragn...</td>\n",
              "      <td>POSITIVE</td>\n",
              "      <td>https://raisingwhasians.com/thor-love-and-thun...</td>\n",
              "    </tr>\n",
              "    <tr>\n",
              "      <th>1444959</th>\n",
              "      <td>thor_love_and_thunder</td>\n",
              "      <td>102706150</td>\n",
              "      <td>2022-07-05</td>\n",
              "      <td>Ian Sandwell</td>\n",
              "      <td>False</td>\n",
              "      <td>4/5</td>\n",
              "      <td>fresh</td>\n",
              "      <td>Digital Spy</td>\n",
              "      <td>Thor&amp;#58; Love and Thunder is the most enterta...</td>\n",
              "      <td>POSITIVE</td>\n",
              "      <td>https://www.digitalspy.com/movies/a40496050/th...</td>\n",
              "    </tr>\n",
              "    <tr>\n",
              "      <th>1444960</th>\n",
              "      <td>thor_love_and_thunder</td>\n",
              "      <td>102706149</td>\n",
              "      <td>2022-07-05</td>\n",
              "      <td>Lauren LaMagna</td>\n",
              "      <td>False</td>\n",
              "      <td>8/10</td>\n",
              "      <td>fresh</td>\n",
              "      <td>Next Best Picture</td>\n",
              "      <td>&amp;quot;Thor&amp;#58; Love and Thunder&amp;quot; is a st...</td>\n",
              "      <td>POSITIVE</td>\n",
              "      <td>https://www.nextbestpicture.com/thor-love-and-...</td>\n",
              "    </tr>\n",
              "    <tr>\n",
              "      <th>1444961</th>\n",
              "      <td>thor_love_and_thunder</td>\n",
              "      <td>102706148</td>\n",
              "      <td>2022-07-05</td>\n",
              "      <td>Jake Cole</td>\n",
              "      <td>True</td>\n",
              "      <td>1/4</td>\n",
              "      <td>rotten</td>\n",
              "      <td>Slant Magazine</td>\n",
              "      <td>Across Taika Waititi&amp;#8217;s film&amp;#44; a war a...</td>\n",
              "      <td>NEGATIVE</td>\n",
              "      <td>https://www.slantmagazine.com/film/thor-love-a...</td>\n",
              "    </tr>\n",
              "    <tr>\n",
              "      <th>1444962</th>\n",
              "      <td>thor_love_and_thunder</td>\n",
              "      <td>102706147</td>\n",
              "      <td>2022-07-05</td>\n",
              "      <td>Roger Moore</td>\n",
              "      <td>False</td>\n",
              "      <td>2.5/4</td>\n",
              "      <td>fresh</td>\n",
              "      <td>Movie Nation</td>\n",
              "      <td>It&amp;#8217;s the jokes that make it&amp;#44; with th...</td>\n",
              "      <td>POSITIVE</td>\n",
              "      <td>https://rogersmovienation.com/2022/07/05/movie...</td>\n",
              "    </tr>\n",
              "  </tbody>\n",
              "</table>\n",
              "<p>1444963 rows × 11 columns</p>\n",
              "</div>"
            ],
            "text/plain": [
              "                                        id   reviewId creationDate  \\\n",
              "0                                  beavers    1145982   2003-05-23   \n",
              "1                               blood_mask    1636744   2007-06-02   \n",
              "2        city_hunter_shinjuku_private_eyes    2590987   2019-05-28   \n",
              "3        city_hunter_shinjuku_private_eyes    2558908   2019-02-14   \n",
              "4                       dangerous_men_2015    2504681   2018-08-29   \n",
              "...                                    ...        ...          ...   \n",
              "1444958              thor_love_and_thunder  102706151   2022-07-05   \n",
              "1444959              thor_love_and_thunder  102706150   2022-07-05   \n",
              "1444960              thor_love_and_thunder  102706149   2022-07-05   \n",
              "1444961              thor_love_and_thunder  102706148   2022-07-05   \n",
              "1444962              thor_love_and_thunder  102706147   2022-07-05   \n",
              "\n",
              "              criticName  isTopCritic originalScore reviewState  \\\n",
              "0        Ivan M. Lincoln        False         3.5/4       fresh   \n",
              "1          The Foywonder        False           1/5      rotten   \n",
              "2           Reuben Baron        False           NaN       fresh   \n",
              "3            Matt Schley        False         2.5/5      rotten   \n",
              "4              Pat Padua        False           NaN       fresh   \n",
              "...                  ...          ...           ...         ...   \n",
              "1444958  Christie Cronan        False          7/10       fresh   \n",
              "1444959     Ian Sandwell        False           4/5       fresh   \n",
              "1444960   Lauren LaMagna        False          8/10       fresh   \n",
              "1444961        Jake Cole         True           1/4      rotten   \n",
              "1444962      Roger Moore        False         2.5/4       fresh   \n",
              "\n",
              "                        publicatioName  \\\n",
              "0        Deseret News (Salt Lake City)   \n",
              "1                        Dread Central   \n",
              "2                                  CBR   \n",
              "3                          Japan Times   \n",
              "4                                DCist   \n",
              "...                                ...   \n",
              "1444958               Raising Whasians   \n",
              "1444959                    Digital Spy   \n",
              "1444960              Next Best Picture   \n",
              "1444961                 Slant Magazine   \n",
              "1444962                   Movie Nation   \n",
              "\n",
              "                                                reviewText scoreSentiment  \\\n",
              "0        Timed to be just long enough for most youngste...       POSITIVE   \n",
              "1        It doesn't matter if a movie costs 300 million...       NEGATIVE   \n",
              "2        The choreography is so precise and lifelike at...       POSITIVE   \n",
              "3        The film's out-of-touch attempts at humor may ...       NEGATIVE   \n",
              "4        Its clumsy determination is endearing and some...       POSITIVE   \n",
              "...                                                    ...            ...   \n",
              "1444958  Solid but not totally sold&#44; Thor&#58; Ragn...       POSITIVE   \n",
              "1444959  Thor&#58; Love and Thunder is the most enterta...       POSITIVE   \n",
              "1444960  &quot;Thor&#58; Love and Thunder&quot; is a st...       POSITIVE   \n",
              "1444961  Across Taika Waititi&#8217;s film&#44; a war a...       NEGATIVE   \n",
              "1444962  It&#8217;s the jokes that make it&#44; with th...       POSITIVE   \n",
              "\n",
              "                                                 reviewUrl  \n",
              "0        http://www.deseretnews.com/article/700003233/B...  \n",
              "1        http://www.dreadcentral.com/index.php?name=Rev...  \n",
              "2        https://www.cbr.com/city-hunter-shinjuku-priva...  \n",
              "3        https://www.japantimes.co.jp/culture/2019/02/0...  \n",
              "4        http://dcist.com/2015/11/out_of_frame_dangerou...  \n",
              "...                                                    ...  \n",
              "1444958  https://raisingwhasians.com/thor-love-and-thun...  \n",
              "1444959  https://www.digitalspy.com/movies/a40496050/th...  \n",
              "1444960  https://www.nextbestpicture.com/thor-love-and-...  \n",
              "1444961  https://www.slantmagazine.com/film/thor-love-a...  \n",
              "1444962  https://rogersmovienation.com/2022/07/05/movie...  \n",
              "\n",
              "[1444963 rows x 11 columns]"
            ]
          },
          "execution_count": 8,
          "metadata": {},
          "output_type": "execute_result"
        }
      ],
      "source": [
        "#review data frame from csv file\n",
        "df_review"
      ]
    },
    {
      "cell_type": "code",
      "execution_count": 9,
      "metadata": {
        "colab": {
          "base_uri": "https://localhost:8080/"
        },
        "id": "Ee0CoifjC27b",
        "outputId": "e496f40e-4248-4aea-ad84-0c8051550ea2"
      },
      "outputs": [],
      "source": [
        "#number of rows in a dataframe\n",
        "row_movie=len(df_movie)\n",
        "row_review=len(df_review)"
      ]
    },
    {
      "cell_type": "code",
      "execution_count": null,
      "metadata": {},
      "outputs": [],
      "source": [
        "#Description of movie data frame\n",
        "df_movie.describe()"
      ]
    },
    {
      "cell_type": "code",
      "execution_count": null,
      "metadata": {},
      "outputs": [],
      "source": [
        "#Description of review data frame\n",
        "df_review.describe()"
      ]
    },
    {
      "cell_type": "code",
      "execution_count": 10,
      "metadata": {
        "colab": {
          "base_uri": "https://localhost:8080/"
        },
        "id": "URGY5k7dxN6L",
        "outputId": "93fc0810-054e-4462-95b2-d4716d63349e"
      },
      "outputs": [
        {
          "data": {
            "text/plain": [
              "id                           0\n",
              "title                      367\n",
              "audienceScore            70010\n",
              "tomatoMeter             109381\n",
              "rating                  129267\n",
              "ratingContents          129267\n",
              "releaseDateTheaters     112485\n",
              "releaseDateStreaming     63838\n",
              "runtimeMinutes           13827\n",
              "genre                    11083\n",
              "originalLanguage         13858\n",
              "director                  4217\n",
              "writer                   53142\n",
              "boxOffice               128515\n",
              "distributor             120257\n",
              "soundMix                127341\n",
              "dtype: int64"
            ]
          },
          "execution_count": 10,
          "metadata": {},
          "output_type": "execute_result"
        }
      ],
      "source": [
        "#null value column description in movie data frame\n",
        "df_movie.isnull().sum()"
      ]
    },
    {
      "cell_type": "code",
      "execution_count": 11,
      "metadata": {},
      "outputs": [
        {
          "data": {
            "text/plain": [
              "id                     0\n",
              "reviewId               0\n",
              "creationDate           0\n",
              "criticName             0\n",
              "isTopCritic            0\n",
              "originalScore     435218\n",
              "reviewState            0\n",
              "publicatioName         0\n",
              "reviewText         69225\n",
              "scoreSentiment         0\n",
              "reviewUrl         210925\n",
              "dtype: int64"
            ]
          },
          "execution_count": 11,
          "metadata": {},
          "output_type": "execute_result"
        }
      ],
      "source": [
        "#null value column description in review data frame\n",
        "df_review.isnull().sum()"
      ]
    },
    {
      "cell_type": "markdown",
      "metadata": {},
      "source": [
        "###### ***visualisation and understanding of data***"
      ]
    },
    {
      "cell_type": "code",
      "execution_count": null,
      "metadata": {},
      "outputs": [],
      "source": [
        "df_movie = df_movie[df_movie.releaseDateTheaters.notnull()]\n",
        "df_movie['releaseDateTheaters'] = pd.to_datetime(df_movie['releaseDateTheaters'])\n",
        "df_movie['movie_year'] = df_movie['releaseDateTheaters'].apply(lambda x: x.year)\n",
        "\n",
        "sns.set(style=\"white\")\n",
        "\n",
        "plt.figure(figsize=(15,10))\n",
        "plt.title('Movies by the year', size=20)\n",
        "sns.distplot(df_movie.movie_year, kde=False)\n",
        "plt.ylabel('Number of movies', size=15)\n",
        "plt.xlabel('Year of release',size=15)\n",
        "plt.axis([1920, 2019, 0, 1750])\n",
        "plt.xticks(np.arange(1850, 2018, step=5),rotation=45, ha='right')\n",
        "plt.show()"
      ]
    },
    {
      "cell_type": "code",
      "execution_count": null,
      "metadata": {},
      "outputs": [],
      "source": [
        "df_review = df_review[df_review.creationDate.notnull()]\n",
        "df_review['creationDate'] = pd.to_datetime(df_review['creationDate'])\n",
        "df_review['review_year'] = df_review['creationDate'].apply(lambda x: x.year)\n",
        "df_review = df_review[df_review.review_year.astype(int) >= 2000]\n",
        "\n",
        "plt.figure(figsize=(15,10))\n",
        "plt.title('Reviews by the year', size=20)\n",
        "sns.distplot(df_review.review_year, bins=20, kde=False)\n",
        "plt.ylabel('Number of critic reviews', size=15)\n",
        "plt.xlabel('Year of review posted',size=15)\n",
        "plt.axis([2000, 2019, 0, 75000])\n",
        "plt.xticks(np.arange(2000, 2022, step=1),rotation=45, ha='right')\n",
        "plt.show()"
      ]
    },
    {
      "cell_type": "code",
      "execution_count": null,
      "metadata": {},
      "outputs": [],
      "source": [
        "df_movie = df_movie[(df_movie.tomatoMeter.notnull()) &\n",
        "                      (df_movie.audienceScore.notnull())]\n",
        "sns.jointplot(x=df_movie['movie_year'], y=df_movie['tomatoMeter'],\n",
        "              kind=\"kde\").fig.set_size_inches(15,15)"
      ]
    },
    {
      "cell_type": "code",
      "execution_count": null,
      "metadata": {},
      "outputs": [],
      "source": [
        "sns.jointplot(x=movies_df['movie_year'], y=movies_df['audienceScore'],\n",
        "              kind=\"kde\").fig.set_size_inches(15,15)"
      ]
    },
    {
      "cell_type": "code",
      "execution_count": null,
      "metadata": {},
      "outputs": [],
      "source": [
        "a = plt.cm.cool\n",
        "\n",
        "plt.figure(figsize=(15,10))\n",
        "count = movies_df['distributor'].value_counts()[:10]\n",
        "sns.barplot(count.values, count.index, palette=[a(0.1),a(0.2),a(0.3),a(0.4),a(0.5),a(0.6),a(0.7),a(0.8),a(0.9),a(0.99)])\n",
        "for i, v in enumerate(count.values):\n",
        "    plt.text(0.8,i,v,color='k',fontsize=14)\n",
        "plt.xlabel('Count', fontsize=12)\n",
        "plt.ylabel('Studio name', fontsize=12)\n",
        "plt.title(\"Distribution of Studio names\", fontsize=16)"
      ]
    },
    {
      "cell_type": "code",
      "execution_count": null,
      "metadata": {},
      "outputs": [],
      "source": [
        "#fequency of movie genre\n",
        "movies_df['first_genre'] = movies_df['genre'].str.split(',').str[0]\n",
        "\n",
        "a = plt.cm.cool\n",
        "\n",
        "plt.figure(figsize=(15,10))\n",
        "count = movies_df['first_genre'].value_counts()[:7]\n",
        "sns.barplot(count.values, count.index, palette=[a(0.1),a(0.2),a(0.3),a(0.4),a(0.5),a(0.6),a(0.7)])\n",
        "for i, v in enumerate(count.values):\n",
        "    plt.text(0.8,i,v,color='k',fontsize=14)\n",
        "plt.xlabel('Count', fontsize=12)\n",
        "plt.ylabel('Genre name', fontsize=12)\n",
        "plt.title(\"Distribution of Genres\", fontsize=16)"
      ]
    },
    {
      "cell_type": "code",
      "execution_count": 27,
      "metadata": {},
      "outputs": [
        {
          "data": {
            "text/plain": [
              "0                         george ormrod\n",
              "2         park heung-sik,heung-sik park\n",
              "3                 john michael mccarthy\n",
              "4                         will meugniot\n",
              "5                     baltasar kormákur\n",
              "                      ...              \n",
              "143249                       neil jones\n",
              "143250                    josh schwartz\n",
              "143252                  manish vatsalya\n",
              "143253                         sho aono\n",
              "143255                     peter georgi\n",
              "Name: director, Length: 83335, dtype: object"
            ]
          },
          "execution_count": 27,
          "metadata": {},
          "output_type": "execute_result"
        }
      ],
      "source": [
        "df_movie['director']"
      ]
    },
    {
      "cell_type": "code",
      "execution_count": 29,
      "metadata": {},
      "outputs": [
        {
          "data": {
            "text/plain": [
              "originalLanguage\n",
              "English            58900\n",
              "Spanish             2355\n",
              "French (Canada)     2061\n",
              "Hindi               1935\n",
              "Chinese             1868\n",
              "                   ...  \n",
              "smi                    1\n",
              "Aramaic                1\n",
              "Tajik                  1\n",
              "Malagasy               1\n",
              "shg                    1\n",
              "Name: count, Length: 111, dtype: int64"
            ]
          },
          "execution_count": 29,
          "metadata": {},
          "output_type": "execute_result"
        }
      ],
      "source": [
        "df_movie['originalLanguage'].value_counts()"
      ]
    },
    {
      "cell_type": "code",
      "execution_count": null,
      "metadata": {
        "colab": {
          "base_uri": "https://localhost:8080/"
        },
        "id": "rd4GBTS112ML",
        "outputId": "93d6e78d-d80c-4894-ec4d-b2185704cd19"
      },
      "outputs": [
        {
          "data": {
            "text/plain": [
              "originalLanguage\n",
              "English    57684\n",
              "Name: count, dtype: int64"
            ]
          },
          "execution_count": 25,
          "metadata": {},
          "output_type": "execute_result"
        }
      ],
      "source": [
        "non_null_languages = df_movie['originalLanguage'].dropna()\n",
        "\n",
        "# Count occurrences of 'English' in the Language column\n",
        "english_count = non_null_languages[non_null_languages == 'English'].value_counts()\n",
        "\n",
        "# Print the count\n",
        "english_count"
      ]
    },
    {
      "cell_type": "markdown",
      "metadata": {},
      "source": [
        "###### *******Selecting important columns from data frame and removing irrelevant columns from movie data frame********"
      ]
    },
    {
      "cell_type": "code",
      "execution_count": 12,
      "metadata": {
        "id": "MM_RN5KJ7XcE"
      },
      "outputs": [],
      "source": [
        "#!!important!! \n",
        "df_movie=df_movie[['id','title','audienceScore', 'tomatoMeter', 'genre','originalLanguage','director' ]]"
      ]
    },
    {
      "cell_type": "markdown",
      "metadata": {},
      "source": [
        "###### ***replacing null values in title column of movie dataframe by id column as there is no null value in id, We are cleaning punctuation adn alphanumeric characters first using a function**"
      ]
    },
    {
      "cell_type": "code",
      "execution_count": 13,
      "metadata": {
        "id": "RIK_ge4v94BY"
      },
      "outputs": [
        {
          "name": "stderr",
          "output_type": "stream",
          "text": [
            "C:\\Users\\gaura\\AppData\\Local\\Temp\\ipykernel_8228\\2387071881.py:6: SettingWithCopyWarning: \n",
            "A value is trying to be set on a copy of a slice from a DataFrame.\n",
            "Try using .loc[row_indexer,col_indexer] = value instead\n",
            "\n",
            "See the caveats in the documentation: https://pandas.pydata.org/pandas-docs/stable/user_guide/indexing.html#returning-a-view-versus-a-copy\n",
            "  df_movie['title'] = df_movie['title'].fillna(df_movie['id'].apply(remove_alphanumeric))\n"
          ]
        }
      ],
      "source": [
        "#!!important!!\n",
        "def remove_alphanumeric(value):\n",
        "    return re.sub('[^A-Za-z]+', '', value)\n",
        "\n",
        "# Replace null values in Title column with modified MovieID values\n",
        "df_movie['title'] = df_movie['title'].fillna(df_movie['id'].apply(remove_alphanumeric))"
      ]
    },
    {
      "cell_type": "code",
      "execution_count": 14,
      "metadata": {
        "id": "QRtNrCUs3Qlq"
      },
      "outputs": [],
      "source": [
        "#!!important!!\n",
        "# Drop rows where genre or director is null\n",
        "df_movie =df_movie.dropna(subset=['genre', 'director'])\n"
      ]
    },
    {
      "cell_type": "code",
      "execution_count": 15,
      "metadata": {},
      "outputs": [],
      "source": [
        "#!!important!!\n",
        "#delete duplicate rows from movie data frame\n",
        "df_movie = df_movie.drop_duplicates()"
      ]
    },
    {
      "cell_type": "markdown",
      "metadata": {},
      "source": [
        "##### ***removing all rows that has no rating at all***"
      ]
    },
    {
      "cell_type": "code",
      "execution_count": 16,
      "metadata": {
        "colab": {
          "base_uri": "https://localhost:8080/",
          "height": 109
        },
        "id": "ULb4LX4REZRp",
        "outputId": "dfa072c6-a4fe-4a96-a31c-733fb07d2e73"
      },
      "outputs": [],
      "source": [
        "#!!important!!\n",
        "# Filter rows where audiencescore and originalscore  column is null\n",
        "null_language_df = df_movie[(df_movie['tomatoMeter'].isnull()) & (df_movie['audienceScore'].isnull())]\n",
        "\n",
        "merged_df = null_language_df.merge(df_review, on='id', how='left', indicator=True)\n",
        "\n",
        "# Filter rows where the movie has no data in the reviews DataFrame\n",
        "no_review_df = merged_df[merged_df['_merge'] == 'left_only']\n",
        "\n"
      ]
    },
    {
      "cell_type": "code",
      "execution_count": 17,
      "metadata": {
        "id": "ApCO-4saNRO3"
      },
      "outputs": [],
      "source": [
        "#!!important!!\n",
        "# removing all rows that has no rating at all\n",
        "mask = df_movie['id'].isin(no_review_df['id'])\n",
        "\n",
        "# Remove the rows with True values in the mask from the original DataFrame\n",
        "df_movie = df_movie[~mask]"
      ]
    },
    {
      "cell_type": "code",
      "execution_count": 18,
      "metadata": {
        "id": "Plf9-O7EQ8TA"
      },
      "outputs": [],
      "source": [
        "#!!important!!\n",
        "# replacing null values from originalLanguage with 'unknown'\n",
        "df_movie['originalLanguage'] = df_movie['originalLanguage'].fillna('Unknown')"
      ]
    },
    {
      "cell_type": "markdown",
      "metadata": {},
      "source": [
        "###### ***Calculating rating based on conditions provided and combining all rating together***"
      ]
    },
    {
      "cell_type": "code",
      "execution_count": 19,
      "metadata": {
        "id": "UT9usMaeDKCF"
      },
      "outputs": [],
      "source": [
        "#!!important!!\n",
        "# Identify movies with null Tomatometer values in the movie DataFrame\n",
        "missing_tomatometer_indices = df_movie['tomatoMeter'].isnull()\n",
        "\n",
        "if missing_tomatometer_indices.any():\n",
        "    # Merge movie and review DataFrames based on a common column, e.g., 'movie_id'\n",
        "    merged_df = df_movie.merge(df_review, on='id', how='left')\n",
        "    \n",
        "    # Calculate the rating based on the conditions provided\n",
        "    merged_df['rating'] = np.where(\n",
        "        merged_df['isTopCritic'] == 'TRUE',\n",
        "        np.where(merged_df['scoreSentiment'] == 'POSITIVE', 100, 10),\n",
        "        np.where(merged_df['scoreSentiment'] == 'POSITIVE', 80, 40)\n",
        "    )\n",
        "    \n",
        "    # Group by movie and calculate the average rating\n",
        "    movie_avg_rating = merged_df.groupby('id')['rating'].mean()\n",
        "    \n",
        "    # Update the movie DataFrame with the calculated average ratings\n",
        "    df_movie.loc[missing_tomatometer_indices, 'tomatoMeter'] = df_movie.loc[missing_tomatometer_indices, 'id'].map(movie_avg_rating)"
      ]
    },
    {
      "cell_type": "code",
      "execution_count": 20,
      "metadata": {},
      "outputs": [],
      "source": [
        "#!!important!!\n",
        "missing_audience_score_indices = df_movie['audienceScore'].isnull()\n",
        "\n",
        "if missing_audience_score_indices.any():\n",
        "    # Substitute the value of \"audienceScore\" with the value of \"tomatometer\"\n",
        "    df_movie .loc[missing_audience_score_indices, 'audienceScore'] = df_movie.loc[missing_audience_score_indices, 'tomatoMeter']\n",
        "\n",
        "# Create a new column \"averageScore\" with the average value of \"audienceScore\" and \"tomatometer\"\n",
        "df_movie['averageScore'] = (df_movie['audienceScore'] + df_movie['tomatoMeter']) / 2"
      ]
    },
    {
      "cell_type": "code",
      "execution_count": 16,
      "metadata": {
        "colab": {
          "base_uri": "https://localhost:8080/",
          "height": 895
        },
        "id": "2FPTF-lX0A68",
        "outputId": "ab20bee2-ff4a-4ac2-c01c-46aa66d2d000"
      },
      "outputs": [
        {
          "data": {
            "text/html": [
              "<div>\n",
              "<style scoped>\n",
              "    .dataframe tbody tr th:only-of-type {\n",
              "        vertical-align: middle;\n",
              "    }\n",
              "\n",
              "    .dataframe tbody tr th {\n",
              "        vertical-align: top;\n",
              "    }\n",
              "\n",
              "    .dataframe thead th {\n",
              "        text-align: right;\n",
              "    }\n",
              "</style>\n",
              "<table border=\"1\" class=\"dataframe\">\n",
              "  <thead>\n",
              "    <tr style=\"text-align: right;\">\n",
              "      <th></th>\n",
              "      <th>id</th>\n",
              "      <th>reviewId</th>\n",
              "      <th>creationDate</th>\n",
              "      <th>criticName</th>\n",
              "      <th>isTopCritic</th>\n",
              "      <th>originalScore</th>\n",
              "      <th>reviewState</th>\n",
              "      <th>publicatioName</th>\n",
              "      <th>reviewText</th>\n",
              "      <th>scoreSentiment</th>\n",
              "      <th>reviewUrl</th>\n",
              "    </tr>\n",
              "  </thead>\n",
              "  <tbody>\n",
              "    <tr>\n",
              "      <th>0</th>\n",
              "      <td>beavers</td>\n",
              "      <td>1145982</td>\n",
              "      <td>2003-05-23</td>\n",
              "      <td>Ivan M. Lincoln</td>\n",
              "      <td>False</td>\n",
              "      <td>3.5/4</td>\n",
              "      <td>fresh</td>\n",
              "      <td>Deseret News (Salt Lake City)</td>\n",
              "      <td>Timed to be just long enough for most youngste...</td>\n",
              "      <td>POSITIVE</td>\n",
              "      <td>http://www.deseretnews.com/article/700003233/B...</td>\n",
              "    </tr>\n",
              "    <tr>\n",
              "      <th>1</th>\n",
              "      <td>blood_mask</td>\n",
              "      <td>1636744</td>\n",
              "      <td>2007-06-02</td>\n",
              "      <td>The Foywonder</td>\n",
              "      <td>False</td>\n",
              "      <td>1/5</td>\n",
              "      <td>rotten</td>\n",
              "      <td>Dread Central</td>\n",
              "      <td>It doesn't matter if a movie costs 300 million...</td>\n",
              "      <td>NEGATIVE</td>\n",
              "      <td>http://www.dreadcentral.com/index.php?name=Rev...</td>\n",
              "    </tr>\n",
              "    <tr>\n",
              "      <th>2</th>\n",
              "      <td>city_hunter_shinjuku_private_eyes</td>\n",
              "      <td>2590987</td>\n",
              "      <td>2019-05-28</td>\n",
              "      <td>Reuben Baron</td>\n",
              "      <td>False</td>\n",
              "      <td>NaN</td>\n",
              "      <td>fresh</td>\n",
              "      <td>CBR</td>\n",
              "      <td>The choreography is so precise and lifelike at...</td>\n",
              "      <td>POSITIVE</td>\n",
              "      <td>https://www.cbr.com/city-hunter-shinjuku-priva...</td>\n",
              "    </tr>\n",
              "    <tr>\n",
              "      <th>3</th>\n",
              "      <td>city_hunter_shinjuku_private_eyes</td>\n",
              "      <td>2558908</td>\n",
              "      <td>2019-02-14</td>\n",
              "      <td>Matt Schley</td>\n",
              "      <td>False</td>\n",
              "      <td>2.5/5</td>\n",
              "      <td>rotten</td>\n",
              "      <td>Japan Times</td>\n",
              "      <td>The film's out-of-touch attempts at humor may ...</td>\n",
              "      <td>NEGATIVE</td>\n",
              "      <td>https://www.japantimes.co.jp/culture/2019/02/0...</td>\n",
              "    </tr>\n",
              "    <tr>\n",
              "      <th>4</th>\n",
              "      <td>dangerous_men_2015</td>\n",
              "      <td>2504681</td>\n",
              "      <td>2018-08-29</td>\n",
              "      <td>Pat Padua</td>\n",
              "      <td>False</td>\n",
              "      <td>NaN</td>\n",
              "      <td>fresh</td>\n",
              "      <td>DCist</td>\n",
              "      <td>Its clumsy determination is endearing and some...</td>\n",
              "      <td>POSITIVE</td>\n",
              "      <td>http://dcist.com/2015/11/out_of_frame_dangerou...</td>\n",
              "    </tr>\n",
              "    <tr>\n",
              "      <th>...</th>\n",
              "      <td>...</td>\n",
              "      <td>...</td>\n",
              "      <td>...</td>\n",
              "      <td>...</td>\n",
              "      <td>...</td>\n",
              "      <td>...</td>\n",
              "      <td>...</td>\n",
              "      <td>...</td>\n",
              "      <td>...</td>\n",
              "      <td>...</td>\n",
              "      <td>...</td>\n",
              "    </tr>\n",
              "    <tr>\n",
              "      <th>1444958</th>\n",
              "      <td>thor_love_and_thunder</td>\n",
              "      <td>102706151</td>\n",
              "      <td>2022-07-05</td>\n",
              "      <td>Christie Cronan</td>\n",
              "      <td>False</td>\n",
              "      <td>7/10</td>\n",
              "      <td>fresh</td>\n",
              "      <td>Raising Whasians</td>\n",
              "      <td>Solid but not totally sold&amp;#44; Thor&amp;#58; Ragn...</td>\n",
              "      <td>POSITIVE</td>\n",
              "      <td>https://raisingwhasians.com/thor-love-and-thun...</td>\n",
              "    </tr>\n",
              "    <tr>\n",
              "      <th>1444959</th>\n",
              "      <td>thor_love_and_thunder</td>\n",
              "      <td>102706150</td>\n",
              "      <td>2022-07-05</td>\n",
              "      <td>Ian Sandwell</td>\n",
              "      <td>False</td>\n",
              "      <td>4/5</td>\n",
              "      <td>fresh</td>\n",
              "      <td>Digital Spy</td>\n",
              "      <td>Thor&amp;#58; Love and Thunder is the most enterta...</td>\n",
              "      <td>POSITIVE</td>\n",
              "      <td>https://www.digitalspy.com/movies/a40496050/th...</td>\n",
              "    </tr>\n",
              "    <tr>\n",
              "      <th>1444960</th>\n",
              "      <td>thor_love_and_thunder</td>\n",
              "      <td>102706149</td>\n",
              "      <td>2022-07-05</td>\n",
              "      <td>Lauren LaMagna</td>\n",
              "      <td>False</td>\n",
              "      <td>8/10</td>\n",
              "      <td>fresh</td>\n",
              "      <td>Next Best Picture</td>\n",
              "      <td>&amp;quot;Thor&amp;#58; Love and Thunder&amp;quot; is a st...</td>\n",
              "      <td>POSITIVE</td>\n",
              "      <td>https://www.nextbestpicture.com/thor-love-and-...</td>\n",
              "    </tr>\n",
              "    <tr>\n",
              "      <th>1444961</th>\n",
              "      <td>thor_love_and_thunder</td>\n",
              "      <td>102706148</td>\n",
              "      <td>2022-07-05</td>\n",
              "      <td>Jake Cole</td>\n",
              "      <td>True</td>\n",
              "      <td>1/4</td>\n",
              "      <td>rotten</td>\n",
              "      <td>Slant Magazine</td>\n",
              "      <td>Across Taika Waititi&amp;#8217;s film&amp;#44; a war a...</td>\n",
              "      <td>NEGATIVE</td>\n",
              "      <td>https://www.slantmagazine.com/film/thor-love-a...</td>\n",
              "    </tr>\n",
              "    <tr>\n",
              "      <th>1444962</th>\n",
              "      <td>thor_love_and_thunder</td>\n",
              "      <td>102706147</td>\n",
              "      <td>2022-07-05</td>\n",
              "      <td>Roger Moore</td>\n",
              "      <td>False</td>\n",
              "      <td>2.5/4</td>\n",
              "      <td>fresh</td>\n",
              "      <td>Movie Nation</td>\n",
              "      <td>It&amp;#8217;s the jokes that make it&amp;#44; with th...</td>\n",
              "      <td>POSITIVE</td>\n",
              "      <td>https://rogersmovienation.com/2022/07/05/movie...</td>\n",
              "    </tr>\n",
              "  </tbody>\n",
              "</table>\n",
              "<p>1363875 rows × 11 columns</p>\n",
              "</div>"
            ],
            "text/plain": [
              "                                        id   reviewId creationDate  \\\n",
              "0                                  beavers    1145982   2003-05-23   \n",
              "1                               blood_mask    1636744   2007-06-02   \n",
              "2        city_hunter_shinjuku_private_eyes    2590987   2019-05-28   \n",
              "3        city_hunter_shinjuku_private_eyes    2558908   2019-02-14   \n",
              "4                       dangerous_men_2015    2504681   2018-08-29   \n",
              "...                                    ...        ...          ...   \n",
              "1444958              thor_love_and_thunder  102706151   2022-07-05   \n",
              "1444959              thor_love_and_thunder  102706150   2022-07-05   \n",
              "1444960              thor_love_and_thunder  102706149   2022-07-05   \n",
              "1444961              thor_love_and_thunder  102706148   2022-07-05   \n",
              "1444962              thor_love_and_thunder  102706147   2022-07-05   \n",
              "\n",
              "              criticName  isTopCritic originalScore reviewState  \\\n",
              "0        Ivan M. Lincoln        False         3.5/4       fresh   \n",
              "1          The Foywonder        False           1/5      rotten   \n",
              "2           Reuben Baron        False           NaN       fresh   \n",
              "3            Matt Schley        False         2.5/5      rotten   \n",
              "4              Pat Padua        False           NaN       fresh   \n",
              "...                  ...          ...           ...         ...   \n",
              "1444958  Christie Cronan        False          7/10       fresh   \n",
              "1444959     Ian Sandwell        False           4/5       fresh   \n",
              "1444960   Lauren LaMagna        False          8/10       fresh   \n",
              "1444961        Jake Cole         True           1/4      rotten   \n",
              "1444962      Roger Moore        False         2.5/4       fresh   \n",
              "\n",
              "                        publicatioName  \\\n",
              "0        Deseret News (Salt Lake City)   \n",
              "1                        Dread Central   \n",
              "2                                  CBR   \n",
              "3                          Japan Times   \n",
              "4                                DCist   \n",
              "...                                ...   \n",
              "1444958               Raising Whasians   \n",
              "1444959                    Digital Spy   \n",
              "1444960              Next Best Picture   \n",
              "1444961                 Slant Magazine   \n",
              "1444962                   Movie Nation   \n",
              "\n",
              "                                                reviewText scoreSentiment  \\\n",
              "0        Timed to be just long enough for most youngste...       POSITIVE   \n",
              "1        It doesn't matter if a movie costs 300 million...       NEGATIVE   \n",
              "2        The choreography is so precise and lifelike at...       POSITIVE   \n",
              "3        The film's out-of-touch attempts at humor may ...       NEGATIVE   \n",
              "4        Its clumsy determination is endearing and some...       POSITIVE   \n",
              "...                                                    ...            ...   \n",
              "1444958  Solid but not totally sold&#44; Thor&#58; Ragn...       POSITIVE   \n",
              "1444959  Thor&#58; Love and Thunder is the most enterta...       POSITIVE   \n",
              "1444960  &quot;Thor&#58; Love and Thunder&quot; is a st...       POSITIVE   \n",
              "1444961  Across Taika Waititi&#8217;s film&#44; a war a...       NEGATIVE   \n",
              "1444962  It&#8217;s the jokes that make it&#44; with th...       POSITIVE   \n",
              "\n",
              "                                                 reviewUrl  \n",
              "0        http://www.deseretnews.com/article/700003233/B...  \n",
              "1        http://www.dreadcentral.com/index.php?name=Rev...  \n",
              "2        https://www.cbr.com/city-hunter-shinjuku-priva...  \n",
              "3        https://www.japantimes.co.jp/culture/2019/02/0...  \n",
              "4        http://dcist.com/2015/11/out_of_frame_dangerou...  \n",
              "...                                                    ...  \n",
              "1444958  https://raisingwhasians.com/thor-love-and-thun...  \n",
              "1444959  https://www.digitalspy.com/movies/a40496050/th...  \n",
              "1444960  https://www.nextbestpicture.com/thor-love-and-...  \n",
              "1444961  https://www.slantmagazine.com/film/thor-love-a...  \n",
              "1444962  https://rogersmovienation.com/2022/07/05/movie...  \n",
              "\n",
              "[1363875 rows x 11 columns]"
            ]
          },
          "execution_count": 16,
          "metadata": {},
          "output_type": "execute_result"
        }
      ],
      "source": [
        "df_review"
      ]
    },
    {
      "cell_type": "code",
      "execution_count": 15,
      "metadata": {
        "colab": {
          "base_uri": "https://localhost:8080/"
        },
        "id": "A05GYVxR56MO",
        "outputId": "fd0ffea9-f4c5-49bb-e112-6ba61ba37875"
      },
      "outputs": [
        {
          "data": {
            "text/plain": [
              "id                     0\n",
              "reviewId               0\n",
              "creationDate           0\n",
              "criticName             0\n",
              "isTopCritic            0\n",
              "originalScore     431220\n",
              "reviewState            0\n",
              "publicatioName         0\n",
              "reviewText             0\n",
              "scoreSentiment         0\n",
              "reviewUrl         162592\n",
              "dtype: int64"
            ]
          },
          "execution_count": 15,
          "metadata": {},
          "output_type": "execute_result"
        }
      ],
      "source": [
        "df_review.isnull().sum()"
      ]
    },
    {
      "cell_type": "code",
      "execution_count": null,
      "metadata": {
        "id": "fma7lKUZIHkz"
      },
      "outputs": [],
      "source": [
        "df_review=df_review[['id','isTopCritic','reviewState','reviewText']]"
      ]
    },
    {
      "cell_type": "code",
      "execution_count": null,
      "metadata": {
        "colab": {
          "base_uri": "https://localhost:8080/"
        },
        "id": "k-PMSzazhxhu",
        "outputId": "df64b763-ff54-4b2a-f1af-5cab86ef4ec4"
      },
      "outputs": [
        {
          "data": {
            "text/plain": [
              "count     1009745\n",
              "unique       1729\n",
              "top           3/5\n",
              "freq       116711\n",
              "Name: originalScore, dtype: object"
            ]
          },
          "execution_count": 16,
          "metadata": {},
          "output_type": "execute_result"
        }
      ],
      "source": [
        "df_review['originalScore'].describe()"
      ]
    },
    {
      "cell_type": "code",
      "execution_count": null,
      "metadata": {
        "colab": {
          "base_uri": "https://localhost:8080/"
        },
        "id": "gvYxdiYhfxnQ",
        "outputId": "4e6a0c15-155b-4f9d-bc3a-f1c121a5ef3c"
      },
      "outputs": [
        {
          "name": "stdout",
          "output_type": "stream",
          "text": [
            "0                                                                                          Timed to be just long enough for most youngsters' brief attention spans -- and it's packed with plenty of interesting activity, both on land and under the water.\n",
            "1                                                                                       It doesn't matter if a movie costs 300 million or only 300 dollars; good is good and bad is bad, and Bloodmask: The Possession of Nicole Lameroux is just plain bad.\n",
            "2     The choreography is so precise and lifelike at points one might wonder whether the movie was rotoscoped, but no live-action reference footage was used. The quality is due to the skill of the animators and Kodama's love for professional wrestling.\n",
            "3                                                                                                                            The film's out-of-touch attempts at humor may find them hunting for the reason the franchise was so popular in the first place.\n",
            "4                                                                                                                                                                                    Its clumsy determination is endearing and sometimes wildly entertaining\n",
            "5                                                                                               With every new minute, there's another head-scratching choice that's bound to elicit some amazing out-loud responses, so this feels like a true party flick.\n",
            "6                                                                              Emotionless reaction shots, zero characterization, guns that have absolutely no special effects when blasted - Dangerous Men is rare winning dish from a one star restaurant.\n",
            "7                                                                                    Conceivably, it could serve as a primer for students on how not to make a movie, and perhaps as a deconstruction of filmic conventions for the more theoretical minded.\n",
            "8                                                                                                                                                        If you're not a fan of garbage cinema, even for the fun of it, Dangerous Men is best to be avoided.\n",
            "9                                                                                                          \"Dangerous Men,\" the picture's production notes inform, took 26 years to reach the big screen. After having seen it, I wonder: What was the rush?\n",
            "10                                                                                                                                       Will entertain some viewers and infuriate others with its clunky mix of feminist fury and awkward action sequences.\n",
            "11                                                                                                                                This is a bad movie, but one that awakens your senses every so often with flashes of originality and abundant self-belief.\n",
            "12       Ridiculous, artless, and wildly entertaining, Dangerous Men is more than the sum of its fascinatingly misguided parts, although it will take a special sort of moviegoer to truly appreciate (or endure, depending on your perspective) its charms.\n",
            "13                                                                                                       To sit through it feels like honoring the dreamers of the world who at least get shit done. Is it terrible? Of course. Is there belly-dancing? Duh.\n",
            "14                                                     Small Town Wisconsin could hit some home truths for viewers&#44; and though being faced with the truth isn&#8217;t always pleasant&#44; it feels necessary in growing towards a happier fruition&#46;\n",
            "15                                                              This low-key drama has lovely interludes and some nicely understated performances, although director Niels Mueller doesn’t glean too many new insights from Jason Naczek’s familiar story...\n",
            "16                                                                                            Small Town Wisconsin is a success in almost every regard, and if you can see over the legions of cheeseheads in the rows ahead of you, it shouldn’t be missed.\n",
            "17                                                                                                                          Just like Wayne&#44; Small Town Wisconsin has flaws&#44; but the poignancy of the story will stick with you for a long time&#46;\n",
            "18                                                                                                                                      It&#8217;s a movie with its heart in the right place&#44; and does both small town and big city Wisconsin proud&#46;\n",
            "19                   Despite some intriguing character dynamics and performances that generate sympathy for this fractured family&#44; the film stumbles when it veers into melodrama without the narrative dexterity to tackle its weightier ambitions&#46;\n",
            "Name: reviewText, dtype: object\n"
          ]
        }
      ],
      "source": [
        "review_column = df_review['reviewText'].head(20)\n",
        "\n",
        "# Display the full review column\n",
        "  # Show full content of each cell\n",
        "print(review_column)"
      ]
    },
    {
      "cell_type": "code",
      "execution_count": 21,
      "metadata": {},
      "outputs": [],
      "source": [
        "#!!important!!\n",
        "#dropping duplicates\n",
        "df_review = df_review.drop_duplicates()"
      ]
    },
    {
      "cell_type": "code",
      "execution_count": 22,
      "metadata": {},
      "outputs": [],
      "source": [
        "#!!important!!\n",
        "#dropping all rows having null values\n",
        "df_review = df_review.dropna(subset=['reviewText'])"
      ]
    },
    {
      "cell_type": "markdown",
      "metadata": {},
      "source": [
        "###### ***Step 2: Extracting movie reviews from the dataset and grouping all reviews for each movie***"
      ]
    },
    {
      "cell_type": "markdown",
      "metadata": {},
      "source": [
        "###### ***Merging the movie dataset with the review dataset based on movie id***"
      ]
    },
    {
      "cell_type": "code",
      "execution_count": 23,
      "metadata": {},
      "outputs": [],
      "source": [
        "#!!important!!\n",
        "# Step 2: Concatenate all reviews for each movie\n",
        "\n",
        "\n",
        "reviews_concat = df_review.groupby('id')['reviewText'].apply(lambda x: ' '.join(x)).reset_index()\n",
        "movie_reviews = pd.merge(df_movie, reviews_concat, on='id', how='left')\n",
        "\n",
        "\n"
      ]
    },
    {
      "cell_type": "markdown",
      "metadata": {},
      "source": [
        "###### ***Text Preprocessing the data for text analysis and extracting features from it, we are using stemming fro getting root words for each word and and we are using tdfidf vectorizer for extracting features,it is a term frequency inverse document frequency vectorizer which is used for text classification and it is useful here to understand the importance of each word, we are using english stop words to remove useless words we have modified tdfidf vectorizer and added stemmer**"
      ]
    },
    {
      "cell_type": "code",
      "execution_count": 24,
      "metadata": {},
      "outputs": [],
      "source": [
        "#!!important!!\n",
        "from sklearn.feature_extraction.text import TfidfVectorizer\n",
        "import Stemmer\n",
        "\n",
        "# English stemmer from pyStemmer\n",
        "stemmer = Stemmer.Stemmer('en')\n",
        "\n",
        "analyzer = TfidfVectorizer().build_analyzer()\n",
        "\n",
        "# Override TfidfVectorizer\n",
        "class StemmedTfidfVectorizer(TfidfVectorizer):\n",
        "    def build_analyzer(self):\n",
        "        analyzer = super(TfidfVectorizer, self).build_analyzer()\n",
        "        return lambda doc: stemmer.stemWords(analyzer(doc))\n",
        "\n",
        "# Create a new StemmedTfidfVectorizer\n",
        "vectorizer = StemmedTfidfVectorizer(stop_words='english',max_features=10000)\n",
        "matrix = vectorizer.fit_transform(movie_reviews['reviewText'].fillna(''))"
      ]
    },
    {
      "cell_type": "code",
      "execution_count": 17,
      "metadata": {},
      "outputs": [
        {
          "name": "stdout",
          "output_type": "stream",
          "text": [
            "0     english\n",
            "1      korean\n",
            "2     english\n",
            "3     english\n",
            "4     english\n",
            "5     spanish\n",
            "6     english\n",
            "7     english\n",
            "8     english\n",
            "9     english\n",
            "10    english\n",
            "11    tagalog\n",
            "12      hindi\n",
            "13    english\n",
            "14      hindi\n",
            "15    english\n",
            "16    english\n",
            "17    english\n",
            "18    english\n",
            "19    english\n",
            "Name: originalLanguage, dtype: object\n"
          ]
        }
      ],
      "source": [
        "print(movie_reviews['originalLanguage'].head(20))"
      ]
    },
    {
      "cell_type": "markdown",
      "metadata": {},
      "source": [
        "###### ****Text preprocessing for genre, director, original language and averageScore columns and extracting features from it, we are using multilabelbinarizer for genre and labelencoder for director and onehotencoder for original language and minmaxscaler for averageScore****"
      ]
    },
    {
      "cell_type": "code",
      "execution_count": 25,
      "metadata": {},
      "outputs": [],
      "source": [
        "#!!important!!\n",
        "# Text preprocessing for genre\n",
        "# Remove all non-alphanumeric characters from genre column\n",
        "\n",
        "movie_reviews['genre'] = movie_reviews['genre'].str.lower().str.replace('[^\\w\\s]', '')\n",
        "movie_reviews['genre'] = movie_reviews['genre'].str.split(',').apply(lambda x: [genre.strip() for genre in x])\n",
        "\n",
        "# Text preprocessing for director\n",
        "movie_reviews['director'] = movie_reviews['director'].str.lower().str.replace('[^\\w\\s,]', '')\n",
        "movie_reviews['originalLanguage'] = movie_reviews['originalLanguage'].str.lower().str.replace('[^\\w\\s,]', '')\n",
        "#preprocessing averageScore column\n",
        "movie_reviews['averageScore'] = movie_reviews['averageScore'].astype(float)\n",
        "\n",
        "\n",
        "# Feature extraction for genre\n",
        "mlb = MultiLabelBinarizer()\n",
        "genres = mlb.fit_transform(movie_reviews['genre'])\n",
        "\n",
        "\n",
        "# Feature extraction for director\n",
        "director_encoder = LabelEncoder()\n",
        "directors = director_encoder.fit_transform(movie_reviews['director'])\n",
        "# Feature extraction for original language\n",
        "language_encoder = OneHotEncoder(max_categories=10, sparse_output=True, handle_unknown='ignore')\n",
        "language=language_encoder.fit_transform(movie_reviews['originalLanguage'].values.reshape(-1, 1))\n",
        "\n",
        "# Feature extraction for averageScore\n",
        "mms = MinMaxScaler()\n",
        "avg_scores = mms.fit_transform(movie_reviews['averageScore'].values.reshape(-1, 1))\n",
        "#combining all features into a single dataframe\n",
        "\n",
        "\n",
        "\n"
      ]
    },
    {
      "cell_type": "code",
      "execution_count": 27,
      "metadata": {},
      "outputs": [
        {
          "name": "stdout",
          "output_type": "stream",
          "text": [
            "float64\n",
            "float64\n",
            "float64\n",
            "int32\n",
            "int32\n"
          ]
        }
      ],
      "source": [
        "print(matrix.dtype)\n",
        "print(avg_scores.dtype)\n",
        "print(language.dtype)\n",
        "print(genres.dtype)\n",
        "print(directors.dtype)"
      ]
    },
    {
      "cell_type": "markdown",
      "metadata": {},
      "source": [
        "##### ***Combining all features into a single dataframe, we are using concatenate function an d we are only combining the genre, director, language and averageScore those are dense features***"
      ]
    },
    {
      "cell_type": "code",
      "execution_count": 26,
      "metadata": {},
      "outputs": [],
      "source": [
        "#!!important!!\n",
        "# Combine all features\n",
        "combined_features = np.concatenate((genres, directors.reshape(-1, 1), language.toarray(), avg_scores,),axis=1)"
      ]
    },
    {
      "cell_type": "code",
      "execution_count": 27,
      "metadata": {},
      "outputs": [],
      "source": [
        "from sklearn.decomposition import TruncatedSVD"
      ]
    },
    {
      "cell_type": "markdown",
      "metadata": {},
      "source": [
        "###### ***We are using TruncatedSVD to reduce the dimension of the reviewText, we are using 1000 components for reducing the dimension to 1000 that is why it will take some time ,leave it for few minutes to complete***"
      ]
    },
    {
      "cell_type": "code",
      "execution_count": 28,
      "metadata": {},
      "outputs": [],
      "source": [
        "#!!important!!\n",
        "# Apply SVD to the reviewText feature\n",
        "\n",
        "svd = TruncatedSVD(n_components=1000)\n",
        "reviews =svd.fit_transform(matrix)\n"
      ]
    },
    {
      "cell_type": "markdown",
      "metadata": {},
      "source": [
        "###### ***Combining the combined_features and reviews into a single dataframe i.e, dense matrix and sparse matrix together , we are using hstack function***"
      ]
    },
    {
      "cell_type": "code",
      "execution_count": 29,
      "metadata": {},
      "outputs": [],
      "source": [
        "#!!important!!\n",
        "#combining all features\n",
        "\n",
        "complete_features= np.hstack((combined_features, reviews))"
      ]
    },
    {
      "cell_type": "code",
      "execution_count": 30,
      "metadata": {},
      "outputs": [],
      "source": [
        "#!!important!!\n",
        "#reset the index of the dataframe\n",
        "#making a indices to search movie using title\n",
        "\n",
        "\n",
        "df_movie = df_movie.reset_index()\n",
        "indices = pd.Series(df_movie.index, index=df_movie['title'])"
      ]
    },
    {
      "cell_type": "code",
      "execution_count": 41,
      "metadata": {},
      "outputs": [
        {
          "name": "stdout",
          "output_type": "stream",
          "text": [
            "[[ 0.00000000e+00  0.00000000e+00  0.00000000e+00 ...  0.00000000e+00\n",
            "   0.00000000e+00  0.00000000e+00]\n",
            " [ 0.00000000e+00  0.00000000e+00  0.00000000e+00 ...  2.55373247e-03\n",
            "   2.29568463e-03  2.30525628e-02]\n",
            " [ 1.00000000e+00  0.00000000e+00  0.00000000e+00 ...  0.00000000e+00\n",
            "   0.00000000e+00  0.00000000e+00]\n",
            " ...\n",
            " [ 1.00000000e+00  0.00000000e+00  0.00000000e+00 ... -8.14189202e-03\n",
            "   9.19269570e-04 -1.60404680e-02]\n",
            " [ 1.00000000e+00  1.00000000e+00  0.00000000e+00 ...  0.00000000e+00\n",
            "   0.00000000e+00  0.00000000e+00]\n",
            " [ 0.00000000e+00  0.00000000e+00  0.00000000e+00 ...  1.90548691e-02\n",
            "  -1.71107345e-02 -1.56152137e-02]]\n"
          ]
        }
      ],
      "source": [
        "print(complete_features)"
      ]
    },
    {
      "cell_type": "code",
      "execution_count": 31,
      "metadata": {},
      "outputs": [],
      "source": [
        "#!!important!!\n",
        "#ormalize the features\n",
        "normalized_features = normalize(complete_features, axis=0)\n",
        "# num_features =normalized_features.shape[1]\n",
        "\n",
        "# Assign weights to each feature\n",
        "# weights = np.array([1.0, 0.6, 0.5,  0.8, 0.7])\n",
        "# assert len(weights) == num_features, \"Weights length does not match the number of features\"\n",
        "\n",
        "# Apply weights to the normalized features\n",
        "# weighted_features = normalized_features * weights[:, np.newaxis]\n",
        "\n",
        "#"
      ]
    },
    {
      "cell_type": "code",
      "execution_count": 38,
      "metadata": {},
      "outputs": [
        {
          "ename": "ModuleNotFoundError",
          "evalue": "No module named 'levenshtein'",
          "output_type": "error",
          "traceback": [
            "\u001b[1;31m---------------------------------------------------------------------------\u001b[0m",
            "\u001b[1;31mModuleNotFoundError\u001b[0m                       Traceback (most recent call last)",
            "Cell \u001b[1;32mIn[38], line 1\u001b[0m\n\u001b[1;32m----> 1\u001b[0m \u001b[38;5;28;01mfrom\u001b[39;00m \u001b[38;5;21;01mlevenshtein\u001b[39;00m \u001b[38;5;28;01mimport\u001b[39;00m distance\n\u001b[0;32m      2\u001b[0m \u001b[38;5;66;03m#assigning weights to the features\u001b[39;00m\n\u001b[0;32m      3\u001b[0m \u001b[38;5;66;03m# weights = np.array([0.9,0.6,0.4,0.8,0.7])\u001b[39;00m\n\u001b[0;32m      4\u001b[0m \n\u001b[1;32m   (...)\u001b[0m\n\u001b[0;32m     52\u001b[0m \u001b[38;5;66;03m# # Run the GUI\u001b[39;00m\n\u001b[0;32m     53\u001b[0m \u001b[38;5;66;03m# window.mainloop()\u001b[39;00m\n",
            "\u001b[1;31mModuleNotFoundError\u001b[0m: No module named 'levenshtein'"
          ]
        }
      ],
      "source": [
        "Import Levenshtein\n",
        "#assigning weights to the features\n",
        "# weights = np.array([0.9,0.6,0.4,0.8,0.7])\n",
        "\n",
        "# #calculating the weighted sum of the features\n",
        "# weighted_sum = np.dot(normalized_features, weights)\n",
        "# #create a function to handle recommendation process\n",
        "# user_movie = entry_movie.get()\n",
        "\n",
        "#     # Find the closest matching movie title using Levenshtein distance\n",
        "# closest_match = min(df_movie['title'], key=lambda x: Levenshtein.distance(user_movie.lower(), df_movie['title'].str.lower()))\n",
        "\n",
        "# if Levenshtein.distance(user_movie.lower(), closest_match.lower()) > 2:  # Set a threshold for the distance\n",
        "#     messagebox.showerror(\"Error\", \"Movie not found!\")\n",
        "#     return\n",
        "\n",
        "#     closest_movie = closest_match\n",
        "#     messagebox.showinfo(\"Closest Match\", f\"Closest matching movie: {closest_movie}\")\n",
        "\n",
        "#     # Find the index of the closest matching movie in the 'movies' list\n",
        "#     user_movie_index = indices(closest_movie)\n",
        "\n",
        "#     # Apply weights to the normalized features\n",
        "#     weighted_features = normalized_features * np.array(weights)\n",
        "\n",
        "#     # Calculate cosine similarity between the user input movie and all other movies\n",
        "#     cosine_similarities = cosine_similarity(weighted_features[user_movie_index].reshape(1, -1), weighted_features)\n",
        "\n",
        "#     # Sort the movies based on cosine similarity scores\n",
        "#     similar_movies_indices = np.argsort(cosine_similarities).flatten()[::-1]  # Descending order\n",
        "\n",
        "#     # Recommend top 10 movies\n",
        "#     top_10_movies = [movies[idx] for idx in similar_movies_indices[:10]]\n",
        "\n",
        "#     # Show the recommended movies in a message box\n",
        "#     messagebox.showinfo(\"Recommended Movies\", \"\\n\".join(top_10_movies))\n",
        "\n",
        "# # Create the GUI\n",
        "# window = tk.Tk()\n",
        "# window.title(\"Movie Recommendation System\")\n",
        "\n",
        "# # Create a label and entry field for the movie input\n",
        "# label_movie = tk.Label(window, text=\"Enter a movie:\")\n",
        "# label_movie.pack()\n",
        "# entry_movie = tk.Entry(window)\n",
        "# entry_movie.pack()\n",
        "\n",
        "# # Create a button to trigger the recommendation process\n",
        "# button_recommend = tk.Button(window, text=\"Recommend\", command=recommend_movies)\n",
        "# button_recommend.pack()\n",
        "\n",
        "# # Run the GUI\n",
        "# window.mainloop()\n",
        "\n"
      ]
    },
    {
      "cell_type": "markdown",
      "metadata": {},
      "source": [
        "###### ***Here we are assigning weights to the features and applying cosine similarity to fin d the most similar movies***"
      ]
    },
    {
      "cell_type": "code",
      "execution_count": 31,
      "metadata": {},
      "outputs": [
        {
          "name": "stdout",
          "output_type": "stream",
          "text": [
            "Recommended movies:\n",
            "Aloha\n",
            "Elizabethtown\n",
            "We Bought a Zoo\n",
            "Jerry Maguire\n",
            "Singles\n",
            "The Water Diviner\n",
            "Almost Famous\n",
            "Unhinged\n",
            "A Good Year\n",
            "A Beautiful Mind\n"
          ]
        }
      ],
      "source": [
        "weights = [0.9, 0.5, 0.3, 0.8,0.7]  # Example weights for each feature\n",
        "\n",
        "# Normalize the combined features\n",
        "\n",
        "\n",
        "# User input movie\n",
        "user_movie = \"Vanilla Sky\"  # Example user input movie\n",
        "\n",
        "# Find the index of the user input movie in the 'movies' list\n",
        "\n",
        "user_movie_index = indices[user_movie]\n",
        "\n",
        "#normalize  weights to the features\n",
        "# weighted_features = normalized_features * np.array(weights)\n",
        "\n",
        "\n",
        "\n",
        "# # Calculate cosine similarity between the user input movie and all other movies\n",
        "# cosine_similarities = cosine_similarity(weighted_features[user_movie_index].reshape(1, -1), weighted_features)\n",
        "#experiment\n",
        "\n",
        "n_features=normalized_features.shape[1]\n",
        "featured_weights=weights*(n_features // 5)\n",
        "remaining_features = n_features % 5\n",
        "featured_weights += [0.1] * remaining_features\n",
        "weights_matrix = np.diag(featured_weights)\n",
        "\n",
        "\n",
        "# user_weighted_features = normalized_features[user_movie_index].reshape(-1, 1)  # Reshape to (number_of_features, 1)\n",
        "weighted_features = normalized_features @ weights_matrix  # Multiplication with broadcasting\n",
        "cosine_similarities = cosine_similarity(weighted_features[user_movie_index].reshape(1, -1), weighted_features)\n",
        "\n",
        "\n",
        "# Sort the movies based on cosine similarity scores\n",
        "similar_movies_indices = np.argsort(cosine_similarities).flatten()[::-1]  # Descending order\n",
        "\n",
        "# Recommend top 10 movies\n",
        "top_10_movies = [df_movie['title'].iloc[i] for i in similar_movies_indices[1:11]]\n",
        "\n",
        "# Print the recommended movies\n",
        "print(\"Recommended movies:\")\n",
        "for movie in top_10_movies:\n",
        "    print(movie)\n"
      ]
    },
    {
      "cell_type": "markdown",
      "metadata": {},
      "source": [
        "###### *an interface to get the input from the user and display the recommended movies*"
      ]
    },
    {
      "cell_type": "markdown",
      "metadata": {},
      "source": [
        "*We are using Tkinter to create a user interface to get the input from the user and display the recommended movies. and we are using the Levenshtein distance to find the closest matching movie title.* "
      ]
    },
    {
      "cell_type": "code",
      "execution_count": 33,
      "metadata": {},
      "outputs": [
        {
          "name": "stderr",
          "output_type": "stream",
          "text": [
            "Exception in Tkinter callback\n",
            "Traceback (most recent call last):\n",
            "  File \"c:\\Python311\\Lib\\tkinter\\__init__.py\", line 1948, in __call__\n",
            "    return self.func(*args)\n",
            "           ^^^^^^^^^^^^^^^^\n",
            "  File \"C:\\Users\\gaura\\AppData\\Local\\Temp\\ipykernel_8228\\1197692713.py\", line 30, in recommend_movies\n",
            "    cosine_similarities = cosine_similarity(weighted_features[user_movie_index].reshape(1, -1), weighted_features)\n",
            "                          ^^^^^^^^^^^^^^^^^^^^^^^^^^^^^^^^^^^^^^^^^^^^^^^^^^^^^^^^^^^^^^^^^^^^^^^^^^^^^^^^^^^^^^^^\n",
            "  File \"c:\\Python311\\Lib\\site-packages\\sklearn\\utils\\_param_validation.py\", line 213, in wrapper\n",
            "    return func(*args, **kwargs)\n",
            "           ^^^^^^^^^^^^^^^^^^^^^\n",
            "  File \"c:\\Python311\\Lib\\site-packages\\sklearn\\metrics\\pairwise.py\", line 1657, in cosine_similarity\n",
            "    X, Y = check_pairwise_arrays(X, Y)\n",
            "           ^^^^^^^^^^^^^^^^^^^^^^^^^^^\n",
            "  File \"c:\\Python311\\Lib\\site-packages\\sklearn\\metrics\\pairwise.py\", line 189, in check_pairwise_arrays\n",
            "    raise ValueError(\n",
            "ValueError: Incompatible dimension for X and Y matrices: X.shape[1] == 2096 while Y.shape[1] == 1048\n"
          ]
        }
      ],
      "source": [
        "weights = [0.9, 0.5, 0.3, 0.8,0.7]  # Example weights for each feature\n",
        "n_features=normalized_features.shape[1]\n",
        "featured_weights=weights*(n_features // 5)\n",
        "remaining_features = n_features % 5\n",
        "featured_weights += [0.1] * remaining_features\n",
        "weights_matrix = np.diag(featured_weights)\n",
        "\n",
        "weighted_features = normalized_features @ weights_matrix  # Multiplication with broadcasting\n",
        "def recommend_movies():\n",
        "    # Get the user input movie\n",
        "    user_movie = entry_movie.get()\n",
        "\n",
        "    # Find the closest matching movie title using Levenshtein distance\n",
        "    closest_match = min(df_movie['title'], key=lambda x: Levenshtein.distance(user_movie.lower(), x.lower()))\n",
        "\n",
        "    if Levenshtein.distance(user_movie.lower(), closest_match.lower()) > 2:  # Set a threshold for the distance\n",
        "        messagebox.showerror(\"Error\", \"Movie not found!\")\n",
        "        return\n",
        "\n",
        "    closest_movie = closest_match\n",
        "    messagebox.showinfo(\"Closest Match\", f\"Closest matching movie: {closest_movie}\")\n",
        "\n",
        "    # Find the index of the closest matching movie in the 'movies' list\n",
        "    user_movie_index = indices[closest_movie]\n",
        "\n",
        "    # Apply weights to the normalized features\n",
        "    \n",
        "\n",
        "    # Calculate cosine similarity between the user input movie and all other movies\n",
        "    cosine_similarities = cosine_similarity(weighted_features[user_movie_index].reshape(1, -1), weighted_features)\n",
        "\n",
        "    # Sort the movies based on cosine similarity scores\n",
        "    similar_movies_indices = np.argsort(cosine_similarities).flatten()[::-1]  # Descending order\n",
        "\n",
        "    # Recommend top 10 movies\n",
        "    top_10_movies = [df_movie['title'].iloc[i] for i in similar_movies_indices[1:11]]\n",
        "\n",
        "    # Show the recommended movies in a message box\n",
        "    messagebox.showinfo(\"Recommended Movies\", \"\\n\".join(top_10_movies))\n",
        "\n",
        "# Create the GUI\n",
        "window = tk.Tk()\n",
        "window.title(\"Movie Recommendation System\")\n",
        "\n",
        "# Create a label and entry field for the movie input\n",
        "label_movie = tk.Label(window, text=\"Enter a movie:\")\n",
        "label_movie.pack()\n",
        "entry_movie = tk.Entry(window)\n",
        "entry_movie.pack()\n",
        "\n",
        "# Create a button to trigger the recommendation process\n",
        "button_recommend = tk.Button(window, text=\"Recommend\", command=recommend_movies)\n",
        "button_recommend.pack()\n",
        "\n",
        "# Run the GUI\n",
        "window.mainloop()"
      ]
    }
  ],
  "metadata": {
    "colab": {
      "provenance": []
    },
    "kernelspec": {
      "display_name": "Python 3",
      "name": "python3"
    },
    "language_info": {
      "codemirror_mode": {
        "name": "ipython",
        "version": 3
      },
      "file_extension": ".py",
      "mimetype": "text/x-python",
      "name": "python",
      "nbconvert_exporter": "python",
      "pygments_lexer": "ipython3",
      "version": "3.11.4"
    }
  },
  "nbformat": 4,
  "nbformat_minor": 0
}
